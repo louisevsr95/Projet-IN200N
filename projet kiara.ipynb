{
 "cells": [
  {
   "cell_type": "code",
   "execution_count": null,
   "metadata": {},
   "outputs": [],
   "source": [
    "import tkinter as tk \n",
    "import random\n",
    "\n",
    "couleurs = [\"bleu\", \"vert\", \"rouge\", \"violet\", \"jaune\", \"noir\", \"rose\", \"blanc\"]\n",
    "\n",
    "def mode_solo():\n",
    "    code1J = random.sample(couleurs,4)\n",
    "    print(code1J)\n",
    "\n",
    "def mode_duo():\n",
    "    code2J = []\n",
    "    while len(code2J) < 4:\n",
    "        choix = input(\"Veuillez choisir les couleurs du code secret ! (les couleurs possibles sont le bleu, le vert, le rouge, le violet, le jaune, le noir, le rose et le blanc\")\n",
    "        code2J.append(choix)\n",
    "    print (code2J)\n",
    "\n",
    "racine = tk.Tk() \n",
    "racine.title(\"Le Mastermind\")\n",
    "bouton_solo = tk.Button(racine, text=\"1 joueur\", commande=mode_solo, font = (\"Helvetica\", \"30\"))\n",
    "bouton_duo = tk.Button(racine, text=\"2 joueurs\", commande=mode_duo, font = (\"Helvetica\", \"30\"))\n",
    "canvas = tk.Canvas(racine, bg=\"Black\", height=500, width=500)\n",
    "CANVAS_WIDTH = 600\n",
    "CANVAS_HEIGHT = 500\n",
    "mon_canvas = tk.Canvas(racine, background=\"white\", width=CANVAS_WIDTH, height=CANVAS_HEIGHT)\n",
    "\n",
    "bouton_solo.grid(row=2, column=0) \n",
    "bouton_duo.grid(row=3, column=0)\n",
    "mon_canvas.grid(row=1, column=1, rowspan=3) \n",
    "racine.mainloop()\n"
   ]
  }
 ],
 "metadata": {
  "kernelspec": {
   "display_name": "base",
   "language": "python",
   "name": "python3"
  },
  "language_info": {
   "name": "python",
   "version": "3.12.3"
  }
 },
 "nbformat": 4,
 "nbformat_minor": 2
}
