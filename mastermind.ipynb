{
 "cells": [
  {
   "cell_type": "code",
   "execution_count": null,
   "metadata": {},
   "outputs": [],
   "source": [
    "import tkinter as tk\n",
    "import random\n",
    "\n",
    "couleurs = [\"red\", \"green\", \"blue\", \"cyan\", \"yellow\", \"white\", \"pink\", \"purple\"]\n",
    "tentatives_max = 10\n",
    "\n",
    "CANVAS_WIDTH, CANVAS_HEIGHT= 900, 700\n",
    "root = tk.Tk()\n",
    "root.title(\"Mastermind\")\n",
    "canvas_accueil = tk.Canvas(root, width= CANVAS_WIDTH, height= CANVAS_HEIGHT, background= \"LightBlue1\")\n",
    "canvas_accueil.grid()\n",
    "label = tk.Label(root, text= \"Jouons au Mastermind!\", font= (\"helvetica\", \"30\"),)\n",
    "label.place(x= 250, y= 10)\n",
    "\n",
    "def solo(): #définie le mode de jeu à 1 joueur\n",
    "    code_solo = random.sample(couleurs, 4)\n",
    "    print(code_solo)\n",
    "    canvas_solo = tk.Toplevel(root, width= CANVAS_WIDTH, height= CANVAS_HEIGHT, background= \"LightBlue1\")\n",
    "    canvas_solo.transient(root)\n",
    "\n",
    "def multi(): #définie le mode de jeu à 2 joueurs\n",
    "    canvas_multi = tk.Toplevel(root, width= CANVAS_WIDTH, height= CANVAS_HEIGHT, background= \"LightBlue1\")\n",
    "    canvas_multi.transient(root)\n",
    "\n",
    "bouton_solo = tk.Button(root, text= \"1 joueur\", font= (\"helvetica\", \"20\"),\n",
    "                        activebackground= \"#BCBCBC\", command= solo)\n",
    "bouton_solo.place(x= 390, y= 200)\n",
    "\n",
    "bouton_multi = tk.Button(root, text= \"2 joueurs\", font= (\"helvetica\", \"20\"),\n",
    "                         activebackground= \"#BCBCBC\", command= multi)\n",
    "bouton_multi.place(x= 388, y= 300)\n",
    "\n",
    "\n",
    "\n",
    "root.mainloop()"
   ]
  }
 ],
 "metadata": {
  "language_info": {
   "name": "python"
  }
 },
 "nbformat": 4,
 "nbformat_minor": 2
}
