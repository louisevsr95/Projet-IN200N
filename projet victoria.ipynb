{
 "cells": [
  {
   "cell_type": "code",
   "execution_count": null,
   "metadata": {},
   "outputs": [],
   "source": [
    "import tkinter as tk \n",
    "import random\n",
    "\n",
    "couleurs = [\"red\", \"green\", \"blue\", \"cyan\", \"yellow\", \"white\", \"pink\", \"purple\"]\n",
    "\n",
    "CANVAS_WIDTH, CANVAS_HEIGHT= 800, 600\n",
    "root = tk.Tk()\n",
    "root. title(\"Mastermind\")\n",
    "canvas_accueil = tk.Canvas(root, width= CANVAS_WIDTH, height= CANVAS HEIGHT, background= \"#31cade\")\n",
    "canvas_accueil.grid()\n",
    "label = tk.Label(root, text= \"Jouons au Mastermind!\", font= (\"helvetica\", \"30\"),)\n",
    "label.place(x= 200, y= 10)\n",
    "\n",
    "def solo():\n",
    "    code = random.sample(couleurs, 4)\n",
    "    print(code)\n",
    "    canvas_solo = tk.Toplevel(root, width= CANVAS_WIDTH, height= CANVAS_HEIGHT, background= \"931cade\")\n",
    "    canvas_solo.transient(root)\n",
    "\n",
    "def multi():\n",
    "    couleurs - [\"red\", \"green\", \"blue\", \"cyan\", \"yellow\", \"white\", \"pink\", \"purple\"]\n",
    "    code = random.sample(couleurs, 4)\n",
    "    print (code)\n",
    "    canvas_solo = tk.Toplevel(root, width= CANVAS WIDTH, height= CANVAS _HEIGHT, background= \"#31cade\")\n",
    "    canvas_solo.transient(root)\n",
    "\n",
    "bouton_solo = tk.Button(root, text= \"1 joueur\", font= (\"helvetica\", \"20\"), \n",
    "                        activebackground= \"#BCBCBC\", command= solo)\n",
    "bouton_solo.place(x= 340, y= 200)\n",
    "\n",
    "bouton multi = tk.Button(root, text= \"2 joueurs\", font= (\"helvetica\", \"20\"),\n",
    "                         activebackground= \"#BCBCBC\", command- multi)\n",
    "bouton_multi.place(x= 338, y= 300)"
   ]
  }
 ],
 "metadata": {
  "kernelspec": {
   "display_name": "base",
   "language": "python",
   "name": "python3"
  },
  "language_info": {
   "name": "python",
   "version": "3.12.3"
  }
 },
 "nbformat": 4,
 "nbformat_minor": 2
}
