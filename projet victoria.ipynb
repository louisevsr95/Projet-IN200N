{
 "cells": [
  {
   "cell_type": "code",
   "execution_count": 7,
   "metadata": {},
   "outputs": [
    {
     "name": "stdout",
     "output_type": "stream",
     "text": [
      "['red', 'blue', 'cyan', 'yellow']\n",
      "['blue', 'green', 'pink', 'cyan']\n"
     ]
    },
    {
     "name": "stderr",
     "output_type": "stream",
     "text": [
      "Exception in Tkinter callback\n",
      "Traceback (most recent call last):\n",
      "  File \"c:\\Users\\Jeune\\miniconda3\\Lib\\tkinter\\__init__.py\", line 1967, in __call__\n",
      "    return self.func(*args)\n",
      "           ^^^^^^^^^^^^^^^^\n",
      "  File \"C:\\Users\\Jeune\\AppData\\Local\\Temp\\ipykernel_2700\\2279440554.py\", line 17, in solo\n",
      "    canvas_solo = tk.Toplevel(root, width= CANVAS_WIDTH, height= CANVAS_HEIGHT, background= \"931cade\")\n",
      "                  ^^^^^^^^^^^^^^^^^^^^^^^^^^^^^^^^^^^^^^^^^^^^^^^^^^^^^^^^^^^^^^^^^^^^^^^^^^^^^^^^^^^^\n",
      "  File \"c:\\Users\\Jeune\\miniconda3\\Lib\\tkinter\\__init__.py\", line 2697, in __init__\n",
      "    BaseWidget.__init__(self, master, 'toplevel', cnf, {}, extra)\n",
      "  File \"c:\\Users\\Jeune\\miniconda3\\Lib\\tkinter\\__init__.py\", line 2648, in __init__\n",
      "    self.tk.call(\n",
      "_tkinter.TclError: unknown color name \"931cade\"\n"
     ]
    }
   ],
   "source": [
    "import tkinter as tk \n",
    "import random\n",
    "\n",
    "couleurs = [\"red\", \"green\", \"blue\", \"cyan\", \"yellow\", \"white\", \"pink\", \"purple\"]\n",
    "\n",
    "CANVAS_WIDTH, CANVAS_HEIGHT= 800, 600\n",
    "root = tk.Tk()\n",
    "root.title(\"Mastermind\")\n",
    "canvas_accueil = tk.Canvas(root, width= CANVAS_WIDTH, height= CANVAS_HEIGHT, background= \"#31cade\")\n",
    "canvas_accueil.grid()\n",
    "label = tk.Label(root, text= \"Jouons au Mastermind!\", font= (\"helvetica\", \"30\"),)\n",
    "label.place(x= 200, y= 10)\n",
    "\n",
    "def solo():\n",
    "    code = random.sample(couleurs, 4)\n",
    "    print(code)\n",
    "    canvas_solo = tk.Toplevel(root, width= CANVAS_WIDTH, height= CANVAS_HEIGHT, background= \"931cade\")\n",
    "    canvas_solo.transient(root)\n",
    "\n",
    "def multi():\n",
    "    couleurs = [\"red\", \"green\", \"blue\", \"cyan\", \"yellow\", \"white\", \"pink\", \"purple\"]\n",
    "    code = random.sample(couleurs, 4)\n",
    "    print (code)\n",
    "    canvas_solo = tk.Toplevel(root, width= CANVAS_WIDTH, height= CANVAS_HEIGHT, background= \"#31cade\")\n",
    "    canvas_solo.transient(root)\n",
    "\n",
    "bouton_solo = tk.Button(root, text= \"1 joueur\", font= (\"helvetica\", \"20\"), \n",
    "                        activebackground= \"#BCBCBC\", command= solo)\n",
    "bouton_solo.place(x= 340, y= 200)\n",
    "\n",
    "bouton_multi = tk.Button(root, text= \"2 joueurs\", font= (\"helvetica\", \"20\"),\n",
    "                         activebackground= \"#BCBCBC\", command= multi)\n",
    "bouton_multi.place(x= 338, y= 300)\n",
    "\n",
    "root.mainloop()"
   ]
  },
  {
   "cell_type": "code",
   "execution_count": null,
   "metadata": {},
   "outputs": [],
   "source": []
  }
 ],
 "metadata": {
  "kernelspec": {
   "display_name": "base",
   "language": "python",
   "name": "python3"
  },
  "language_info": {
   "codemirror_mode": {
    "name": "ipython",
    "version": 3
   },
   "file_extension": ".py",
   "mimetype": "text/x-python",
   "name": "python",
   "nbconvert_exporter": "python",
   "pygments_lexer": "ipython3",
   "version": "3.12.3"
  }
 },
 "nbformat": 4,
 "nbformat_minor": 2
}
